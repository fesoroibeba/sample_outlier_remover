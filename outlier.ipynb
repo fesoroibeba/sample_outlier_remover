import statistics

#A function to read a sample distributon to remove outliers based on "cutoff" standard deviation. The outliers are excluded and the mean recalculated to give the actual estimate of the population
def mean_and_std(sample):
    #create variables for mean and std from a sample
    mean = statistics.mean(sample)
    std = statistics.stdev(sample)
    return mean, std
def validation(sample, cutoff):
    #get mean and std from the previous function and return the new mean
    #with precision of 2 decimal points
    
    while True:
        mean, std = mean_and_std(sample)
        
        outliers = 0
        for x in sample:
            if ((x-mean)-std)>cutoff:
                #print(x)
                sample.remove(x)
                outliers += 1
                break
            else:
                pass
        break
        #you can see here the variables to understand what you have        
        #print(mean,std, outliers)
    
       # if #COMPLETE THIS CONDITION:
            #break
        
    new_mean, new_std = mean_and_std(sample)
            
    return round(new_mean,2), round(new_std,2) #return the new mean - ROUNDED

if __name__ == "__main__":
    sample = [4, 8, 156, 12, 13, 15, 31, 12, 0.4, 3, 6, 7, 9,157]
    print("The sample mean and standard deviation with outlier are "+str(mean_and_std(sample))+ " respectively")
    print("The sample mean and standard deviation without outliers are "+str(validation(sample,3))+ " respectively")
