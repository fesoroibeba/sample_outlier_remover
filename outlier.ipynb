{
 "cells": [
  {
   "cell_type": "code",
   "execution_count": 1,
   "metadata": {},
   "outputs": [
    {
     "name": "stdout",
     "output_type": "stream",
     "text": [
      "The sample mean and standard deviation with outlier are (30.957142857142856, 53.6845016209121) respectively\n",
      "The sample mean and standard deviation without outliers are (21.34, 41.46) respectively\n"
     ]
    }
   ],
   "source": [
    "import statistics\n",
    "\n",
    "#A function to read a sample distributon to remove outliers based on \"cutoff\" standard deviation. The outliers are excluded and the mean recalculated to give the actual estimate of the population\n",
    "def mean_and_std(sample):\n",
    "    #create variables for mean and std from a sample\n",
    "    mean = statistics.mean(sample)\n",
    "    std = statistics.stdev(sample)\n",
    "    return mean, std\n",
    "def validation(sample, cutoff):\n",
    "    #get mean and std from the previous function and return the new mean\n",
    "    #with precision of 2 decimal points\n",
    "    \n",
    "    while True:\n",
    "        mean, std = mean_and_std(sample)\n",
    "        \n",
    "        outliers = 0\n",
    "        for x in sample:\n",
    "            if ((x-mean)-std)>cutoff:\n",
    "                #print(x)\n",
    "                sample.remove(x)\n",
    "                outliers += 1\n",
    "                break\n",
    "            else:\n",
    "                pass\n",
    "        break\n",
    "        #you can see here the variables to understand what you have        \n",
    "        #print(mean,std, outliers)\n",
    "    \n",
    "       # if #COMPLETE THIS CONDITION:\n",
    "            #break\n",
    "        \n",
    "    new_mean, new_std = mean_and_std(sample)\n",
    "            \n",
    "    return round(new_mean,2), round(new_std,2) #return the new mean - ROUNDED\n",
    "\n",
    "if __name__ == \"__main__\":\n",
    "    sample = [4, 8, 156, 12, 13, 15, 31, 12, 0.4, 3, 6, 7, 9,157]\n",
    "    print(\"The sample mean and standard deviation with outlier are \"+str(mean_and_std(sample))+ \" respectively\")\n",
    "    print(\"The sample mean and standard deviation without outliers are \"+str(validation(sample,3))+ \" respectively\")\n"
   ]
  },
  {
   "cell_type": "code",
   "execution_count": null,
   "metadata": {},
   "outputs": [],
   "source": []
  }
 ],
 "metadata": {
  "kernelspec": {
   "display_name": "Python 3.9.6 64-bit",
   "language": "python",
   "name": "python3"
  },
  "language_info": {
   "codemirror_mode": {
    "name": "ipython",
    "version": 3
   },
   "file_extension": ".py",
   "mimetype": "text/x-python",
   "name": "python",
   "nbconvert_exporter": "python",
   "pygments_lexer": "ipython3",
   "version": "3.9.6"
  },
  "orig_nbformat": 4,
  "vscode": {
   "interpreter": {
    "hash": "31f2aee4e71d21fbe5cf8b01ff0e069b9275f58929596ceb00d14d90e3e16cd6"
   }
  }
 },
 "nbformat": 4,
 "nbformat_minor": 2
}
